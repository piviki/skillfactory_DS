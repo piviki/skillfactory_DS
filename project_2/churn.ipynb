{
 "cells": [
  {
   "cell_type": "markdown",
   "id": "ac42e75c",
   "metadata": {},
   "source": [
    "### Home work 'churn'"
   ]
  },
  {
   "cell_type": "markdown",
   "id": "381fce2c",
   "metadata": {},
   "source": [
    "#### Цель заказчика: \n",
    "##### банк хочет разработать кампанию лояльности по удержанию клиентов, \n",
    "##### но для этого ему необходимо, чтобы вы выяснили основные причины оттока клиентов:\n",
    "#####  нужно установить, чем ушедшие клиенты отличаются от лояльных и как между собой связаны различные признаки, \n",
    "##### определяющие клиентов.\n",
    "##### После разведывательного анализа, с целью выявления наиболее важных признаков оттока, банк сможет построить модель машинного обучения, которая будет прогнозировать уход клиента."
   ]
  },
  {
   "cell_type": "code",
   "execution_count": null,
   "id": "9c165139",
   "metadata": {},
   "outputs": [],
   "source": [
    "#### Задачи DS:\n",
    "##### подготовить мини-отчёт:\n",
    "##### Отчёт должен содержать ответы на приведённые ниже вопросы в виде графика и подробных выводов"
   ]
  },
  {
   "cell_type": "code",
   "execution_count": 28,
   "id": "c4bc1677",
   "metadata": {
    "scrolled": false
   },
   "outputs": [
    {
     "data": {
      "text/html": [
       "<div>\n",
       "<style scoped>\n",
       "    .dataframe tbody tr th:only-of-type {\n",
       "        vertical-align: middle;\n",
       "    }\n",
       "\n",
       "    .dataframe tbody tr th {\n",
       "        vertical-align: top;\n",
       "    }\n",
       "\n",
       "    .dataframe thead th {\n",
       "        text-align: right;\n",
       "    }\n",
       "</style>\n",
       "<table border=\"1\" class=\"dataframe\">\n",
       "  <thead>\n",
       "    <tr style=\"text-align: right;\">\n",
       "      <th></th>\n",
       "      <th>RowNumber</th>\n",
       "      <th>CustomerId</th>\n",
       "      <th>Surname</th>\n",
       "      <th>CreditScore</th>\n",
       "      <th>Geography</th>\n",
       "      <th>Gender</th>\n",
       "      <th>Age</th>\n",
       "      <th>Tenure</th>\n",
       "      <th>Balance</th>\n",
       "      <th>NumOfProducts</th>\n",
       "      <th>HasCrCard</th>\n",
       "      <th>IsActiveMember</th>\n",
       "      <th>EstimatedSalary</th>\n",
       "      <th>Exited</th>\n",
       "    </tr>\n",
       "  </thead>\n",
       "  <tbody>\n",
       "    <tr>\n",
       "      <th>0</th>\n",
       "      <td>1</td>\n",
       "      <td>15634602</td>\n",
       "      <td>Hargrave</td>\n",
       "      <td>619</td>\n",
       "      <td>France</td>\n",
       "      <td>Female</td>\n",
       "      <td>42</td>\n",
       "      <td>2</td>\n",
       "      <td>0.00</td>\n",
       "      <td>1</td>\n",
       "      <td>1</td>\n",
       "      <td>1</td>\n",
       "      <td>101348.88</td>\n",
       "      <td>1</td>\n",
       "    </tr>\n",
       "    <tr>\n",
       "      <th>1</th>\n",
       "      <td>2</td>\n",
       "      <td>15647311</td>\n",
       "      <td>Hill</td>\n",
       "      <td>608</td>\n",
       "      <td>Spain</td>\n",
       "      <td>Female</td>\n",
       "      <td>41</td>\n",
       "      <td>1</td>\n",
       "      <td>83807.86</td>\n",
       "      <td>1</td>\n",
       "      <td>0</td>\n",
       "      <td>1</td>\n",
       "      <td>112542.58</td>\n",
       "      <td>0</td>\n",
       "    </tr>\n",
       "    <tr>\n",
       "      <th>2</th>\n",
       "      <td>3</td>\n",
       "      <td>15619304</td>\n",
       "      <td>Onio</td>\n",
       "      <td>502</td>\n",
       "      <td>France</td>\n",
       "      <td>Female</td>\n",
       "      <td>42</td>\n",
       "      <td>8</td>\n",
       "      <td>159660.80</td>\n",
       "      <td>3</td>\n",
       "      <td>1</td>\n",
       "      <td>0</td>\n",
       "      <td>113931.57</td>\n",
       "      <td>1</td>\n",
       "    </tr>\n",
       "    <tr>\n",
       "      <th>3</th>\n",
       "      <td>4</td>\n",
       "      <td>15701354</td>\n",
       "      <td>Boni</td>\n",
       "      <td>699</td>\n",
       "      <td>France</td>\n",
       "      <td>Female</td>\n",
       "      <td>39</td>\n",
       "      <td>1</td>\n",
       "      <td>0.00</td>\n",
       "      <td>2</td>\n",
       "      <td>0</td>\n",
       "      <td>0</td>\n",
       "      <td>93826.63</td>\n",
       "      <td>0</td>\n",
       "    </tr>\n",
       "    <tr>\n",
       "      <th>4</th>\n",
       "      <td>5</td>\n",
       "      <td>15737888</td>\n",
       "      <td>Mitchell</td>\n",
       "      <td>850</td>\n",
       "      <td>Spain</td>\n",
       "      <td>Female</td>\n",
       "      <td>43</td>\n",
       "      <td>2</td>\n",
       "      <td>125510.82</td>\n",
       "      <td>1</td>\n",
       "      <td>1</td>\n",
       "      <td>1</td>\n",
       "      <td>79084.10</td>\n",
       "      <td>0</td>\n",
       "    </tr>\n",
       "  </tbody>\n",
       "</table>\n",
       "</div>"
      ],
      "text/plain": [
       "   RowNumber  CustomerId   Surname  CreditScore Geography  Gender  Age  \\\n",
       "0          1    15634602  Hargrave          619    France  Female   42   \n",
       "1          2    15647311      Hill          608     Spain  Female   41   \n",
       "2          3    15619304      Onio          502    France  Female   42   \n",
       "3          4    15701354      Boni          699    France  Female   39   \n",
       "4          5    15737888  Mitchell          850     Spain  Female   43   \n",
       "\n",
       "   Tenure    Balance  NumOfProducts  HasCrCard  IsActiveMember  \\\n",
       "0       2       0.00              1          1               1   \n",
       "1       1   83807.86              1          0               1   \n",
       "2       8  159660.80              3          1               0   \n",
       "3       1       0.00              2          0               0   \n",
       "4       2  125510.82              1          1               1   \n",
       "\n",
       "   EstimatedSalary  Exited  \n",
       "0        101348.88       1  \n",
       "1        112542.58       0  \n",
       "2        113931.57       1  \n",
       "3         93826.63       0  \n",
       "4         79084.10       0  "
      ]
     },
     "execution_count": 28,
     "metadata": {},
     "output_type": "execute_result"
    }
   ],
   "source": [
    "import pandas as pd\n",
    "churn_data = pd.read_csv('data/churn.csv')\n",
    "churn_data.head()"
   ]
  },
  {
   "cell_type": "code",
   "execution_count": 6,
   "id": "4e62e386",
   "metadata": {},
   "outputs": [],
   "source": [
    "import matplotlib.pyplot as plt\n",
    "# % matplotlib inline\n",
    "# plt.style.use('default')\n",
    "import seaborn as sns\n",
    "import plotly\n",
    "import plotly.express as px\n",
    "import numpy as np"
   ]
  },
  {
   "cell_type": "markdown",
   "id": "3239a47d",
   "metadata": {},
   "source": [
    "#### ЗАДАНИЯ"
   ]
  },
  {
   "cell_type": "markdown",
   "id": "a550b42e",
   "metadata": {},
   "source": [
    "##### 9.1. Каково соотношение ушедших и лояльных клиентов? Покажите это на графике и дайте комментарий по соотношению."
   ]
  },
  {
   "cell_type": "code",
   "execution_count": 21,
   "id": "c6599f75",
   "metadata": {},
   "outputs": [
    {
     "data": {
      "image/png": "[encoded data removed]",
      "text/plain": [
       "<Figure size 864x432 with 1 Axes>"
      ]
     },
     "metadata": {},
     "output_type": "display_data"
    }
   ],
   "source": [
    "##### working with column: Exited — статус лояльности (1 — ушедший клиент, 0 — лояльный клиент)\n",
    "fig = plt.figure(facecolor='lightblue', figsize = (12,6))\n",
    "axes = fig.add_axes([0, 0, 1, 1])\n",
    "\n",
    "churn_df = churn_data['Exited'].value_counts()\n",
    "\n",
    "axes.pie(\n",
    "    churn_df,\n",
    "    labels = churn_df.index,\n",
    "    autopct = '%.1f%%',\n",
    "    \n",
    " );\n",
    "axes.set_title('Соотношение ушедших и лояльных клиентов', fontsize=12)\n",
    "axes.legend();"
   ]
  },
  {
   "cell_type": "code",
   "execution_count": null,
   "id": "127b715c",
   "metadata": {},
   "outputs": [],
   "source": [
    "##### комментарий:\n",
    "##### из данной круговой диаграммы мы наблюдаем, что соотношение ушедших клиентов составило 20.4% \n",
    "##### и лояльных клиентов - 79,6% \n",
    "##### наблюдение говорит о том, что клиенты банка в преимущественном проценте относятся к категории \"лояльным\"\n",
    "##### Однако 20,4% могут быть обозначены, как \"потери\"  в связи с уходом клиентов"
   ]
  },
  {
   "cell_type": "markdown",
   "id": "35dabad3",
   "metadata": {},
   "source": [
    "##### 9.2. Постройте график, показывающий распределение баланса пользователей,  у которых на счету больше 2 500 долларов. Опишите распределение и сделайте выводы"
   ]
  },
  {
   "cell_type": "code",
   "execution_count": 25,
   "id": "d56829a6",
   "metadata": {},
   "outputs": [],
   "source": [
    "#### working with column: Balance — баланс на счетах клиента в банке"
   ]
  },
  {
   "cell_type": "code",
   "execution_count": 45,
   "id": "190f023d",
   "metadata": {},
   "outputs": [
    {
     "data": {
      "text/html": [
       "<div>\n",
       "<style scoped>\n",
       "    .dataframe tbody tr th:only-of-type {\n",
       "        vertical-align: middle;\n",
       "    }\n",
       "\n",
       "    .dataframe tbody tr th {\n",
       "        vertical-align: top;\n",
       "    }\n",
       "\n",
       "    .dataframe thead th {\n",
       "        text-align: right;\n",
       "    }\n",
       "</style>\n",
       "<table border=\"1\" class=\"dataframe\">\n",
       "  <thead>\n",
       "    <tr style=\"text-align: right;\">\n",
       "      <th></th>\n",
       "      <th>RowNumber</th>\n",
       "      <th>CustomerId</th>\n",
       "      <th>Surname</th>\n",
       "      <th>CreditScore</th>\n",
       "      <th>Geography</th>\n",
       "      <th>Gender</th>\n",
       "      <th>Age</th>\n",
       "      <th>Tenure</th>\n",
       "      <th>Balance</th>\n",
       "      <th>NumOfProducts</th>\n",
       "      <th>HasCrCard</th>\n",
       "      <th>IsActiveMember</th>\n",
       "      <th>EstimatedSalary</th>\n",
       "      <th>Exited</th>\n",
       "    </tr>\n",
       "  </thead>\n",
       "  <tbody>\n",
       "    <tr>\n",
       "      <th>1</th>\n",
       "      <td>2</td>\n",
       "      <td>15647311</td>\n",
       "      <td>Hill</td>\n",
       "      <td>608</td>\n",
       "      <td>Spain</td>\n",
       "      <td>Female</td>\n",
       "      <td>41</td>\n",
       "      <td>1</td>\n",
       "      <td>83807.86</td>\n",
       "      <td>1</td>\n",
       "      <td>0</td>\n",
       "      <td>1</td>\n",
       "      <td>112542.58</td>\n",
       "      <td>0</td>\n",
       "    </tr>\n",
       "    <tr>\n",
       "      <th>2</th>\n",
       "      <td>3</td>\n",
       "      <td>15619304</td>\n",
       "      <td>Onio</td>\n",
       "      <td>502</td>\n",
       "      <td>France</td>\n",
       "      <td>Female</td>\n",
       "      <td>42</td>\n",
       "      <td>8</td>\n",
       "      <td>159660.80</td>\n",
       "      <td>3</td>\n",
       "      <td>1</td>\n",
       "      <td>0</td>\n",
       "      <td>113931.57</td>\n",
       "      <td>1</td>\n",
       "    </tr>\n",
       "    <tr>\n",
       "      <th>4</th>\n",
       "      <td>5</td>\n",
       "      <td>15737888</td>\n",
       "      <td>Mitchell</td>\n",
       "      <td>850</td>\n",
       "      <td>Spain</td>\n",
       "      <td>Female</td>\n",
       "      <td>43</td>\n",
       "      <td>2</td>\n",
       "      <td>125510.82</td>\n",
       "      <td>1</td>\n",
       "      <td>1</td>\n",
       "      <td>1</td>\n",
       "      <td>79084.10</td>\n",
       "      <td>0</td>\n",
       "    </tr>\n",
       "    <tr>\n",
       "      <th>5</th>\n",
       "      <td>6</td>\n",
       "      <td>15574012</td>\n",
       "      <td>Chu</td>\n",
       "      <td>645</td>\n",
       "      <td>Spain</td>\n",
       "      <td>Male</td>\n",
       "      <td>44</td>\n",
       "      <td>8</td>\n",
       "      <td>113755.78</td>\n",
       "      <td>2</td>\n",
       "      <td>1</td>\n",
       "      <td>0</td>\n",
       "      <td>149756.71</td>\n",
       "      <td>1</td>\n",
       "    </tr>\n",
       "    <tr>\n",
       "      <th>7</th>\n",
       "      <td>8</td>\n",
       "      <td>15656148</td>\n",
       "      <td>Obinna</td>\n",
       "      <td>376</td>\n",
       "      <td>Germany</td>\n",
       "      <td>Female</td>\n",
       "      <td>29</td>\n",
       "      <td>4</td>\n",
       "      <td>115046.74</td>\n",
       "      <td>4</td>\n",
       "      <td>1</td>\n",
       "      <td>0</td>\n",
       "      <td>119346.88</td>\n",
       "      <td>1</td>\n",
       "    </tr>\n",
       "    <tr>\n",
       "      <th>...</th>\n",
       "      <td>...</td>\n",
       "      <td>...</td>\n",
       "      <td>...</td>\n",
       "      <td>...</td>\n",
       "      <td>...</td>\n",
       "      <td>...</td>\n",
       "      <td>...</td>\n",
       "      <td>...</td>\n",
       "      <td>...</td>\n",
       "      <td>...</td>\n",
       "      <td>...</td>\n",
       "      <td>...</td>\n",
       "      <td>...</td>\n",
       "      <td>...</td>\n",
       "    </tr>\n",
       "    <tr>\n",
       "      <th>9991</th>\n",
       "      <td>9992</td>\n",
       "      <td>15769959</td>\n",
       "      <td>Ajuluchukwu</td>\n",
       "      <td>597</td>\n",
       "      <td>France</td>\n",
       "      <td>Female</td>\n",
       "      <td>53</td>\n",
       "      <td>4</td>\n",
       "      <td>88381.21</td>\n",
       "      <td>1</td>\n",
       "      <td>1</td>\n",
       "      <td>0</td>\n",
       "      <td>69384.71</td>\n",
       "      <td>1</td>\n",
       "    </tr>\n",
       "    <tr>\n",
       "      <th>9993</th>\n",
       "      <td>9994</td>\n",
       "      <td>15569266</td>\n",
       "      <td>Rahman</td>\n",
       "      <td>644</td>\n",
       "      <td>France</td>\n",
       "      <td>Male</td>\n",
       "      <td>28</td>\n",
       "      <td>7</td>\n",
       "      <td>155060.41</td>\n",
       "      <td>1</td>\n",
       "      <td>1</td>\n",
       "      <td>0</td>\n",
       "      <td>29179.52</td>\n",
       "      <td>0</td>\n",
       "    </tr>\n",
       "    <tr>\n",
       "      <th>9996</th>\n",
       "      <td>9997</td>\n",
       "      <td>15569892</td>\n",
       "      <td>Johnstone</td>\n",
       "      <td>516</td>\n",
       "      <td>France</td>\n",
       "      <td>Male</td>\n",
       "      <td>35</td>\n",
       "      <td>10</td>\n",
       "      <td>57369.61</td>\n",
       "      <td>1</td>\n",
       "      <td>1</td>\n",
       "      <td>1</td>\n",
       "      <td>101699.77</td>\n",
       "      <td>0</td>\n",
       "    </tr>\n",
       "    <tr>\n",
       "      <th>9998</th>\n",
       "      <td>9999</td>\n",
       "      <td>15682355</td>\n",
       "      <td>Sabbatini</td>\n",
       "      <td>772</td>\n",
       "      <td>Germany</td>\n",
       "      <td>Male</td>\n",
       "      <td>42</td>\n",
       "      <td>3</td>\n",
       "      <td>75075.31</td>\n",
       "      <td>2</td>\n",
       "      <td>1</td>\n",
       "      <td>0</td>\n",
       "      <td>92888.52</td>\n",
       "      <td>1</td>\n",
       "    </tr>\n",
       "    <tr>\n",
       "      <th>9999</th>\n",
       "      <td>10000</td>\n",
       "      <td>15628319</td>\n",
       "      <td>Walker</td>\n",
       "      <td>792</td>\n",
       "      <td>France</td>\n",
       "      <td>Female</td>\n",
       "      <td>28</td>\n",
       "      <td>4</td>\n",
       "      <td>130142.79</td>\n",
       "      <td>1</td>\n",
       "      <td>1</td>\n",
       "      <td>0</td>\n",
       "      <td>38190.78</td>\n",
       "      <td>0</td>\n",
       "    </tr>\n",
       "  </tbody>\n",
       "</table>\n",
       "<p>6383 rows × 14 columns</p>\n",
       "</div>"
      ],
      "text/plain": [
       "      RowNumber  CustomerId      Surname  CreditScore Geography  Gender  Age  \\\n",
       "1             2    15647311         Hill          608     Spain  Female   41   \n",
       "2             3    15619304         Onio          502    France  Female   42   \n",
       "4             5    15737888     Mitchell          850     Spain  Female   43   \n",
       "5             6    15574012          Chu          645     Spain    Male   44   \n",
       "7             8    15656148       Obinna          376   Germany  Female   29   \n",
       "...         ...         ...          ...          ...       ...     ...  ...   \n",
       "9991       9992    15769959  Ajuluchukwu          597    France  Female   53   \n",
       "9993       9994    15569266       Rahman          644    France    Male   28   \n",
       "9996       9997    15569892    Johnstone          516    France    Male   35   \n",
       "9998       9999    15682355    Sabbatini          772   Germany    Male   42   \n",
       "9999      10000    15628319       Walker          792    France  Female   28   \n",
       "\n",
       "      Tenure    Balance  NumOfProducts  HasCrCard  IsActiveMember  \\\n",
       "1          1   83807.86              1          0               1   \n",
       "2          8  159660.80              3          1               0   \n",
       "4          2  125510.82              1          1               1   \n",
       "5          8  113755.78              2          1               0   \n",
       "7          4  115046.74              4          1               0   \n",
       "...      ...        ...            ...        ...             ...   \n",
       "9991       4   88381.21              1          1               0   \n",
       "9993       7  155060.41              1          1               0   \n",
       "9996      10   57369.61              1          1               1   \n",
       "9998       3   75075.31              2          1               0   \n",
       "9999       4  130142.79              1          1               0   \n",
       "\n",
       "      EstimatedSalary  Exited  \n",
       "1           112542.58       0  \n",
       "2           113931.57       1  \n",
       "4            79084.10       0  \n",
       "5           149756.71       1  \n",
       "7           119346.88       1  \n",
       "...               ...     ...  \n",
       "9991         69384.71       1  \n",
       "9993         29179.52       0  \n",
       "9996        101699.77       0  \n",
       "9998         92888.52       1  \n",
       "9999         38190.78       0  \n",
       "\n",
       "[6383 rows x 14 columns]"
      ]
     },
     "metadata": {},
     "output_type": "display_data"
    }
   ],
   "source": [
    "# making filter with 'mask'\n",
    "mask = churn_data['Balance']>2500\n",
    "display(churn_data[mask])"
   ]
  },
  {
   "cell_type": "code",
   "execution_count": 46,
   "id": "46612843",
   "metadata": {},
   "outputs": [
    {
     "data": {
      "image/png": "[encoded data removed]",
      "text/plain": [
       "<Figure size 864x432 with 1 Axes>"
      ]
     },
     "metadata": {},
     "output_type": "display_data"
    }
   ],
   "source": [
    "# строим график\n",
    "#plt.style.use('default')\n",
    "balace_25 = mask.value_counts() # переменная для новой DF\n",
    "fig = plt.figure(facecolor='lightblue', figsize = (12,6))\n",
    "axes = fig.add_axes([0,0,1,1])\n",
    "axes.pie(\n",
    "    balace_25,\n",
    "    labels = balace_25.index,\n",
    "    autopct = '%.1f%%',\n",
    "    \n",
    ");\n",
    "axes.set_title('Распределение баланса пользователей, у которых на счету больше 2500 долларов', fontsize=12)\n",
    "axes.legend();"
   ]
  },
  {
   "cell_type": "code",
   "execution_count": null,
   "id": "d59e584d",
   "metadata": {},
   "outputs": [],
   "source": [
    "##### комментарий:\n",
    "##### из данной круговой диаграммы мы наблюдаем, что соотношение клиентов, у которых на счету больше 2500 долларов,\n",
    "# составило 63,8% \n",
    "##### доля клиентов с меньшими вкладами составила 36,2 % \n",
    "##### наблюдение говорит о том, что у большинства клиентов банка сумма на счёте составляет больше $2500"
   ]
  },
  {
   "cell_type": "markdown",
   "id": "eaab843a",
   "metadata": {},
   "source": [
    "##### 9.3. Посмотрите на распределение баланса клиента в разрезе признака оттока. Как различаются суммы на накопительном счёте ушедших и лояльных клиентов? Подумайте и напишите, с чем это может быть связано, что может не устраивать ушедших клиентов в банке."
   ]
  },
  {
   "cell_type": "code",
   "execution_count": 68,
   "id": "d8f5d4f4",
   "metadata": {},
   "outputs": [
    {
     "name": "stdout",
     "output_type": "stream",
     "text": [
      "Exited\n",
      "0    5.792708e+08\n",
      "1    1.855881e+08\n",
      "Name: Balance, dtype: float64\n"
     ]
    }
   ],
   "source": [
    "# изучаем распределение баланса клиента в разрезе признака оттока (1 — ушедший клиент, 0 — лояльный клиент))\n",
    "clients_balance_diff = churn_data.groupby(by = ['Exited'])['Balance'].sum()\n",
    "print(clients)"
   ]
  },
  {
   "cell_type": "code",
   "execution_count": 71,
   "id": "0505316e",
   "metadata": {},
   "outputs": [
    {
     "data": {
      "image/png": "[encoded data removed]",
      "text/plain": [
       "<Figure size 864x432 with 1 Axes>"
      ]
     },
     "metadata": {},
     "output_type": "display_data"
    }
   ],
   "source": [
    "# строим график\n",
    "#plt.style.use('default')\n",
    "clients_balance_diff = churn_data.groupby(by = ['Exited'])['Balance'].sum()\n",
    "fig = plt.figure(facecolor='lightblue', figsize = (12,6))\n",
    "axes = fig.add_axes([0,0,1,1])\n",
    "axes.pie(\n",
    "    clients_balance_diff,\n",
    "    labels = clients_balance_diff.index,\n",
    "    autopct = '%.1f%%',\n",
    "    \n",
    ");\n",
    "axes.set_title('Распределение баланса клиента в разрезе признака оттока', fontsize=12) \n",
    "# (1 — ушедший клиент, 0 — лояльный клиент)\n",
    "axes.legend();"
   ]
  },
  {
   "cell_type": "code",
   "execution_count": null,
   "id": "61d9b177",
   "metadata": {},
   "outputs": [],
   "source": [
    "##### комментарий:\n",
    "##### из данной круговой диаграммы мы наблюдаем, что 75,7% - это баланс лояльных клиентов\n",
    "##### а 24,3% составляет баланс ушедших клиентов\n",
    "##### наблюдение говорит о том, что требуются дополнительные меры по изучению причин оттока клиентов"
   ]
  },
  {
   "cell_type": "code",
   "execution_count": 150,
   "id": "93da093d",
   "metadata": {},
   "outputs": [
    {
     "name": "stdout",
     "output_type": "stream",
     "text": [
      "Exited\n",
      "0    130142.79\n",
      "1     75075.31\n",
      "Name: Balance, dtype: float64\n"
     ]
    }
   ],
   "source": [
    "# различаются суммы на накопительном счёте ушедших и лояльных клиентов\n",
    "balance_diff = churn_data.groupby(by = ['Exited'])['Balance'].last()\n",
    "print(balance_diff)"
   ]
  },
  {
   "cell_type": "code",
   "execution_count": 151,
   "id": "b2849cd8",
   "metadata": {},
   "outputs": [
    {
     "data": {
      "image/png": "[encoded data removed]",
      "text/plain": [
       "<Figure size 576x288 with 1 Axes>"
      ]
     },
     "metadata": {
      "needs_background": "light"
     },
     "output_type": "display_data"
    }
   ],
   "source": [
    "balance_diff.plot(\n",
    "    kind = 'bar',\n",
    "    figsize = (8, 4),\n",
    "    title = 'различаются суммы на накопительном счёте ушедших и лояльных клиентов',\n",
    "    grid = True,\n",
    "     \n",
    ");"
   ]
  },
  {
   "cell_type": "code",
   "execution_count": null,
   "id": "8d397306",
   "metadata": {},
   "outputs": [],
   "source": [
    "##### комментарий:\n",
    "##### с чем это может быть связано, что может не устраивать ушедших клиентов в банке?\n",
    "##### вероятно, с условиями оплаты за обслуживание карт за месяц,\n",
    "##### или высокой комиссии при переводе денежных средств на карту другого банка и т.п.\n",
    "##### или невыгодные условия по вскладам и chashback"
   ]
  },
  {
   "cell_type": "markdown",
   "id": "502e43a7",
   "metadata": {},
   "source": [
    "##### 9.4. Посмотрите на распределение возраста в разрезе признака оттока. В какой группе больше потенциальных выбросов? На какую возрастную категорию клиентов стоит обратить внимание банку?"
   ]
  },
  {
   "cell_type": "code",
   "execution_count": 171,
   "id": "c364dfe0",
   "metadata": {},
   "outputs": [],
   "source": [
    "age_vs_left = churn_data.groupby(by = 'Age')['Exited'].sum()"
   ]
  },
  {
   "cell_type": "code",
   "execution_count": 172,
   "id": "4aa2c7d4",
   "metadata": {},
   "outputs": [
    {
     "data": {
      "image/png": "[encoded data removed]",
      "text/plain": [
       "<Figure size 576x288 with 1 Axes>"
      ]
     },
     "metadata": {
      "needs_background": "light"
     },
     "output_type": "display_data"
    }
   ],
   "source": [
    "age_vs_left.plot(\n",
    "    kind = 'box',\n",
    "    figsize = (8, 4),\n",
    "    title = 'Распределение возраста в разрезе признака оттока',\n",
    "    grid = True,\n",
    "    color = 'green',   \n",
    ");"
   ]
  },
  {
   "cell_type": "code",
   "execution_count": null,
   "id": "0736d940",
   "metadata": {},
   "outputs": [],
   "source": [
    "##### комментарий:\n",
    "##### На какую возрастную категорию клиентов стоит обратить внимание банку?\n",
    "##### на клиентов до 20 лет\n",
    "##### В какой группе больше потенциальных выбросов\n",
    "##### от 0 до 5 лет"
   ]
  },
  {
   "cell_type": "markdown",
   "id": "14bbade0",
   "metadata": {},
   "source": [
    "##### 9.5. Постройте график, который показывает взаимосвязь кредитного рейтинга клиента и его предполагаемой зарплаты. Добавьте расцветку по признаку оттока клиентов. Какова взаимосвязь между признаками? Если не видите явной взаимосвязи, укажите это."
   ]
  },
  {
   "cell_type": "code",
   "execution_count": 189,
   "id": "bb7bd163",
   "metadata": {},
   "outputs": [
    {
     "data": {
      "image/png": "[encoded data removed]",
      "text/plain": [
       "<Figure size 576x288 with 1 Axes>"
      ]
     },
     "metadata": {
      "needs_background": "light"
     },
     "output_type": "display_data"
    }
   ],
   "source": [
    "credit_vs_salary = churn_data.groupby(by = ['Exited'])[['EstimatedSalary', 'CreditScore']].sum()\n",
    "credit_vs_salary.plot(\n",
    "    kind = 'bar',\n",
    "    figsize = (8, 4),\n",
    "    title = 'взаимосвязь кредитного рейтинга клиента и его предполагаемой зарплаты',\n",
    "    grid = True,\n",
    "    color = 'black'\n",
    ");"
   ]
  },
  {
   "cell_type": "markdown",
   "id": "954eda8a",
   "metadata": {},
   "source": [
    "##### 9.6. Кто чаще уходит, мужчины или женщины? Постройте график, который иллюстрирует это"
   ]
  },
  {
   "cell_type": "code",
   "execution_count": 197,
   "id": "e794fc0f",
   "metadata": {},
   "outputs": [
    {
     "name": "stdout",
     "output_type": "stream",
     "text": [
      "Gender\n",
      "Female    1139\n",
      "Male       898\n",
      "Name: Exited, dtype: int64\n"
     ]
    }
   ],
   "source": [
    "male_vs_female = churn_data.groupby(by = ['Gender'])['Exited'].sum()\n",
    "print(male_vs_female)"
   ]
  },
  {
   "cell_type": "code",
   "execution_count": 201,
   "id": "28dedde2",
   "metadata": {},
   "outputs": [
    {
     "data": {
      "image/png": "[encoded data removed]",
      "text/plain": [
       "<Figure size 864x432 with 1 Axes>"
      ]
     },
     "metadata": {},
     "output_type": "display_data"
    }
   ],
   "source": [
    "male_vs_female = churn_data.groupby(by = ['Gender'])['Exited'].sum()\n",
    "\n",
    "fig = plt.figure(facecolor='lightblue', figsize = (12,6))\n",
    "axes = fig.add_axes([0,0,1,1])\n",
    "axes.pie(\n",
    "    male_vs_female,\n",
    "    labels = male_vs_female.index,\n",
    "    autopct = '%.1f%%',\n",
    "    \n",
    ");\n",
    "axes.set_title('Кто чаще уходит, мужчины или женщины?', fontsize=12) \n",
    "axes.legend();"
   ]
  },
  {
   "cell_type": "code",
   "execution_count": null,
   "id": "dd39d304",
   "metadata": {},
   "outputs": [],
   "source": [
    "##### комментарий:\n",
    "##### % дам больше, чем % джентельменов, покидающих банк"
   ]
  },
  {
   "cell_type": "markdown",
   "id": "cbfba94c",
   "metadata": {},
   "source": [
    "##### 9.7. Как отток клиентов зависит от числа приобретённых у банка услуг? Для ответа на этот вопрос постройте многоуровневую столбчатую диаграмму."
   ]
  },
  {
   "cell_type": "code",
   "execution_count": 209,
   "id": "0aff401f",
   "metadata": {},
   "outputs": [
    {
     "data": {
      "image/png": "[encoded data removed]",
      "text/plain": [
       "<Figure size 864x432 with 2 Axes>"
      ]
     },
     "metadata": {
      "needs_background": "light"
     },
     "output_type": "display_data"
    }
   ],
   "source": [
    "num_of_products = churn_data.groupby(by = ['NumOfProducts'])['Exited'].sum()\n",
    "#визуализация главного графика\n",
    "fig = plt.figure(figsize=(12, 6))\n",
    "main_axes = fig.add_axes([0, 0, 1, 1])\n",
    "main_axes.bar(x = num_of_products.index, height = num_of_products);\n",
    "main_axes.set_ylabel('число приобретённых у банка услуг', fontsize=9)\n",
    "main_axes.set_title('отток клиентов', fontsize=9)\n",
    "\n",
    "#визуализация вспомогательного графика\n",
    "insert_axes = fig.add_axes([0.6, 0.6, 0.38, 0.38])\n",
    "insert_axes.bar(x = num_of_products.index, height = num_of_products, width=0.5);\n",
    "insert_axes.set_ylabel('число приобретённых у банка услу', fontsize=7)\n",
    "insert_axes.xaxis.set_tick_params(rotation=45)"
   ]
  },
  {
   "cell_type": "code",
   "execution_count": null,
   "id": "5675375d",
   "metadata": {},
   "outputs": [],
   "source": []
  }
 ],
 "metadata": {
  "kernelspec": {
   "display_name": "Python 3 (ipykernel)",
   "language": "python",
   "name": "python3"
  },
  "language_info": {
   "codemirror_mode": {
    "name": "ipython",
    "version": 3
   },
   "file_extension": ".py",
   "mimetype": "text/x-python",
   "name": "python",
   "nbconvert_exporter": "python",
   "pygments_lexer": "ipython3",
   "version": "3.9.7"
  }
 },
 "nbformat": 4,
 "nbformat_minor": 5
}
