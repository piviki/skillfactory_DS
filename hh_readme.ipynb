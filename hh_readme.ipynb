{
  "cells": [
    {
      "cell_type": "markdown",
      "metadata": {
        "id": "view-in-github",
        "colab_type": "text"
      },
      "source": [
        "<a href=\"https://colab.research.google.com/github/piviki/skillfactory_DS/blob/main/hh_readme.ipynb\" target=\"_parent\"><img src=\"https://colab.research.google.com/assets/colab-badge.svg\" alt=\"Open In Colab\"/></a>"
      ]
    },
    {
      "cell_type": "code",
      "execution_count": null,
      "metadata": {
        "id": "615k7ofP-sYE"
      },
      "outputs": [],
      "source": [
        "# Project_hh_analysis_\n",
        "\n",
        "### Изучение, анализ и очистка данных на основе исходящих данных от hh.ru\n",
        "\n",
        "## Оглавление\n",
        "[1. Описание проекта](https://github.com/piviki/skillfactory_DS/blob/main/hh_project.ipynb/README.md#Описание-проекта)\n",
        "\n",
        "[2. Какой кейс решаем](https://github.com/piviki/skillfactory_DS/blob/main/hh_project.ipynb/README.md#Какой-кейс-решаем)\n",
        "\n",
        "[3. Краткая информация о данных](https://github.com/piviki/skillfactory_DS/blob/main/hh_project.ipynb/README.md#Краткая-информация-о-данных)\n",
        "\n",
        "[4. Этапы работы над проектом](https://github.com/piviki/skillfactory_DS/blob/main/hh_project.ipynb/README.md#Этапы-работы-над-проектом)\n",
        "\n",
        "[5. Результат](https://github.com/piviki/skillfactory_DS/blob/main/hh_project.ipynb/README.md#Результат)\n",
        "\n",
        "[6. Выводы](https://github.com/piviki/skillfactory_DS/blob/main/hh_project.ipynb/README.md#Выводы)\n",
        "\n",
        "### Описание проекта\n",
        "- 1. Исследование структуры данных\n",
        "- 2. Преобразование данных\n",
        "- 3. Исследование зависимостей в данных\n",
        "- 4. Очистка данных\n",
        "\n",
        ":arrow_up: [к оглавлению](https://github.com/piviki/skillfactory_DS/blob/main/hh_project.ipynb#Оглавление)\n",
        "\n",
        "### Какой кейс решаем\n",
        "Исследуем и преобразовываем данные от hh:\n",
        "\n",
        "### Краткая информация о данных\n",
        "- данные предоставлены из базы hh.ru\n",
        "- dst-3.0_16_1_hh_database (1) в CSV формате sep=';'\n",
        "- ExchangeRates в CSV формате\n",
        "\n",
        ":arrow_up: [к_оглавлению](https://github.com/piviki/skillfactory_DS/blob/main/hh_project.ipynb#Оглавление)\n",
        "\n",
        "### Этапы работы над проектом\n",
        "- Анализ задачи\n",
        "- Написание функций по преобразованию данных\n",
        "- Исследование преобразований df и визуализация (построение графиков)\n",
        "- Написание функций для очистки данных\n",
        "- Публикация кода на GitHub для дальнейшей её проверки\n",
        "- https://github.com/piviki/skillfactory_DS/blob/main/hh_project.ipynb\n",
        "\n",
        ":arrow_up: [к_оглавлению](https://github.com/piviki/skillfactory_DS/blob/main/hh_project.ipynb#Оглавление)\n",
        "\n",
        "### Результат\n",
        "- Проведено исследование данных\n",
        "- Представлены преобразования данных\n",
        "- Представлена визуализация в виде графиков\n",
        "- Проведена очистка данных\n",
        "- На каждом этапе были написаны комментарии  и выводы\n",
        "\n",
        ":arrow_up: [к_оглавлению](https://github.com/piviki/skillfactory_DS/blob/main/hh_project.ipynb#Оглавление)\n",
        "\n",
        "### Выводы\n",
        "- Исследование и очистка данных является важным этапом для дальнейшего использования информации в:\n",
        "- подготовке отчетов\n",
        "- принятиям решений\n",
        "- ускорению процессов в работе\n",
        "\n",
        ":arrow_up: [к_оглавлению](https://github.com/piviki/skillfactory_DS/blob/main/hh_project.ipynb#Оглавление)"
      ]
    }
  ],
  "metadata": {
    "language_info": {
      "name": "python"
    },
    "orig_nbformat": 4,
    "colab": {
      "name": "hh.readme.ipynb",
      "provenance": [],
      "include_colab_link": true
    }
  },
  "nbformat": 4,
  "nbformat_minor": 0
}