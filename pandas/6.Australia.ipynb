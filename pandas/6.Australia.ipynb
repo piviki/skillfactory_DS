{
 "cells": [
  {
   "cell_type": "code",
   "execution_count": 22,
   "metadata": {},
   "outputs": [
    {
     "data": {
      "text/html": [
       "<div>\n",
       "<style scoped>\n",
       "    .dataframe tbody tr th:only-of-type {\n",
       "        vertical-align: middle;\n",
       "    }\n",
       "\n",
       "    .dataframe tbody tr th {\n",
       "        vertical-align: top;\n",
       "    }\n",
       "\n",
       "    .dataframe thead th {\n",
       "        text-align: right;\n",
       "    }\n",
       "</style>\n",
       "<table border=\"1\" class=\"dataframe\">\n",
       "  <thead>\n",
       "    <tr style=\"text-align: right;\">\n",
       "      <th></th>\n",
       "      <th>index;Suburb;Address;Rooms;Type;Price;Method;SellerG;Date;Distance;Postcode;Bedroom;Bathroom;Car;Landsize;BuildingArea;YearBuilt;CouncilArea;Lattitude;Longtitude;Regionname;Propertycount;Coordinates</th>\n",
       "    </tr>\n",
       "  </thead>\n",
       "  <tbody>\n",
       "    <tr>\n",
       "      <th>0;Abbotsford;85 Turner St;2;h;1480000.0;S;Biggin;3/12/2016;2.5;3067;2.0;1.0;1.0;202.0;126.0;1970.0;Yarra;-37.7996;144.9984;Northern Metropolitan;4019.0;-37.7996</th>\n",
       "      <td>144.99840</td>\n",
       "    </tr>\n",
       "    <tr>\n",
       "      <th>1;Abbotsford;25 Bloomburg St;2;h;1035000.0;S;Biggin;4/02/2016;2.5;3067;2.0;1.0;0.0;156.0;79.0;1900.0;Yarra;-37.8079;144.9934;Northern Metropolitan;4019.0;-37.8079</th>\n",
       "      <td>144.99340</td>\n",
       "    </tr>\n",
       "    <tr>\n",
       "      <th>2;Abbotsford;5 Charles St;3;h;1465000.0;SP;Biggin;4/03/2017;2.5;3067;3.0;2.0;0.0;134.0;150.0;1900.0;Yarra;-37.8093;144.9944;Northern Metropolitan;4019.0;-37.8093</th>\n",
       "      <td>144.99440</td>\n",
       "    </tr>\n",
       "    <tr>\n",
       "      <th>3;Abbotsford;40 Federation La;3;h;850000.0;PI;Biggin;4/03/2017;2.5;3067;3.0;2.0;1.0;94.0;126.0;1970.0;Yarra;-37.7969;144.9969;Northern Metropolitan;4019.0;-37.7969</th>\n",
       "      <td>144.99690</td>\n",
       "    </tr>\n",
       "    <tr>\n",
       "      <th>4;Abbotsford;55a Park St;4;h;1600000.0;VB;Nelson;4/06/2016;2.5;3067;3.0;1.0;2.0;120.0;142.0;2014.0;Yarra;-37.8072;144.9941;Northern Metropolitan;4019.0;-37.8072</th>\n",
       "      <td>144.99410</td>\n",
       "    </tr>\n",
       "    <tr>\n",
       "      <th>...</th>\n",
       "      <td>...</td>\n",
       "    </tr>\n",
       "    <tr>\n",
       "      <th>13575;Wheelers Hill;12 Strada Cr;4;h;1245000.0;S;Barry;26/08/2017;16.7;3150;4.0;2.0;2.0;652.0;126.0;1981.0;;-37.90562;145.16761;South-Eastern Metropolitan;7392.0;-37.90562</th>\n",
       "      <td>145.16761</td>\n",
       "    </tr>\n",
       "    <tr>\n",
       "      <th>13576;Williamstown;77 Merrett Dr;3;h;1031000.0;SP;Williams;26/08/2017;6.8;3016;3.0;2.0;2.0;333.0;133.0;1995.0;;-37.85927;144.87904;Western Metropolitan;6380.0;-37.85927</th>\n",
       "      <td>144.87904</td>\n",
       "    </tr>\n",
       "    <tr>\n",
       "      <th>13577;Williamstown;83 Power St;3;h;1170000.0;S;Raine;26/08/2017;6.8;3016;3.0;2.0;4.0;436.0;126.0;1997.0;;-37.85274;144.88738;Western Metropolitan;6380.0;-37.85274</th>\n",
       "      <td>144.88738</td>\n",
       "    </tr>\n",
       "    <tr>\n",
       "      <th>13578;Williamstown;96 Verdon St;4;h;2500000.0;PI;Sweeney;26/08/2017;6.8;3016;4.0;1.0;5.0;866.0;157.0;1920.0;;-37.85908;144.89299;Western Metropolitan;6380.0;-37.85908</th>\n",
       "      <td>144.89299</td>\n",
       "    </tr>\n",
       "    <tr>\n",
       "      <th>13579;Yarraville;6 Agnes St;4;h;1285000.0;SP;Village;26/08/2017;6.3;3013;4.0;1.0;1.0;362.0;112.0;1920.0;;-37.81188;144.88449;Western Metropolitan;6543.0;-37.81188</th>\n",
       "      <td>144.88449</td>\n",
       "    </tr>\n",
       "  </tbody>\n",
       "</table>\n",
       "<p>13580 rows × 1 columns</p>\n",
       "</div>"
      ],
      "text/plain": [
       "                                                    index;Suburb;Address;Rooms;Type;Price;Method;SellerG;Date;Distance;Postcode;Bedroom;Bathroom;Car;Landsize;BuildingArea;YearBuilt;CouncilArea;Lattitude;Longtitude;Regionname;Propertycount;Coordinates\n",
       "0;Abbotsford;85 Turner St;2;h;1480000.0;S;Biggi...                                          144.99840                                                                                                                                                     \n",
       "1;Abbotsford;25 Bloomburg St;2;h;1035000.0;S;Bi...                                          144.99340                                                                                                                                                     \n",
       "2;Abbotsford;5 Charles St;3;h;1465000.0;SP;Bigg...                                          144.99440                                                                                                                                                     \n",
       "3;Abbotsford;40 Federation La;3;h;850000.0;PI;B...                                          144.99690                                                                                                                                                     \n",
       "4;Abbotsford;55a Park St;4;h;1600000.0;VB;Nelso...                                          144.99410                                                                                                                                                     \n",
       "...                                                                                               ...                                                                                                                                                     \n",
       "13575;Wheelers Hill;12 Strada Cr;4;h;1245000.0;...                                          145.16761                                                                                                                                                     \n",
       "13576;Williamstown;77 Merrett Dr;3;h;1031000.0;...                                          144.87904                                                                                                                                                     \n",
       "13577;Williamstown;83 Power St;3;h;1170000.0;S;...                                          144.88738                                                                                                                                                     \n",
       "13578;Williamstown;96 Verdon St;4;h;2500000.0;P...                                          144.89299                                                                                                                                                     \n",
       "13579;Yarraville;6 Agnes St;4;h;1285000.0;SP;Vi...                                          144.88449                                                                                                                                                     \n",
       "\n",
       "[13580 rows x 1 columns]"
      ]
     },
     "metadata": {},
     "output_type": "display_data"
    }
   ],
   "source": [
    "import pandas as pd\n",
    "\n",
    "data = pd.read_csv('data/melb_data.csv', sep = ',')\n",
    "display(data)"
   ]
  },
  {
   "cell_type": "code",
   "execution_count": null,
   "metadata": {},
   "outputs": [],
   "source": []
  }
 ],
 "metadata": {
  "interpreter": {
   "hash": "6d46af94c2bbce495f1e668725902fa517c90b1782bcfe2fce0dd9868df553d3"
  },
  "kernelspec": {
   "display_name": "Python 3.9.7 ('base')",
   "language": "python",
   "name": "python3"
  },
  "language_info": {
   "codemirror_mode": {
    "name": "ipython",
    "version": 3
   },
   "file_extension": ".py",
   "mimetype": "text/x-python",
   "name": "python",
   "nbconvert_exporter": "python",
   "pygments_lexer": "ipython3",
   "version": "3.9.7"
  },
  "orig_nbformat": 4
 },
 "nbformat": 4,
 "nbformat_minor": 2
}
