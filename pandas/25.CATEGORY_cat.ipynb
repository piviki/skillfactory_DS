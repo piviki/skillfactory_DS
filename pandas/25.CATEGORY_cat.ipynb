{
 "cells": [
  {
   "cell_type": "code",
   "execution_count": null,
   "metadata": {},
   "outputs": [],
   "source": [
    "# аксесcор cat\n",
    "# позволяет получать информацию о своих значениях и преобразовывать их. \n",
    "# Например, с помощью атрибута этого аксессора categories мы можем получить список уникальных категорий в столбце Regionname:"
   ]
  },
  {
   "cell_type": "code",
   "execution_count": 1,
   "metadata": {},
   "outputs": [],
   "source": [
    "import pandas as pd\n",
    "melb_data = pd.read_csv('data/melb_data_ps.csv', sep=',')\n",
    "# display(melb_data.head())\n",
    "melb_df = melb_data.copy()\n",
    "# display(melb_df.head())\n",
    "melb_df = melb_df.drop(['index', 'Coordinates'], axis=1)\n",
    "#melb_df.head()\n",
    "total_rooms = melb_df['Rooms'] + melb_df['Bathroom'] + melb_df['Bedroom']\n",
    "#display(total_rooms)\n",
    "melb_df['MeanRoomsSquare'] = melb_df['BuildingArea']/total_rooms\n",
    "#display(melb_df['MeanRoomsSquare'])\n",
    "diff_area = melb_df['BuildingArea'] - melb_df['Landsize']\n",
    "sum_area = melb_df['BuildingArea'] + melb_df['Landsize']\n",
    "melb_df['AreaRatio'] = diff_area/sum_area\n",
    "#display(melb_df['AreaRatio'])\n",
    "price_square = melb_df['Price']**2\n",
    "#display(price_square)\n",
    "\n",
    "melb_df['Date'] = pd.to_datetime(melb_df['Date'], dayfirst=True)\n",
    "# print(melb_df['Date'])\n",
    "\n",
    "year_sold = melb_df['Date'].dt.year\n",
    "#print('год продажи', year_sold)\n",
    "#print('min yearsold', year_sold.min())\n",
    "#print('max yearsold', year_sold.max())\n",
    "#print('mode of sold', year_sold.mode()[0])\n",
    "\n",
    "melb_df['MonthSale'] = melb_df['Date'].dt.month\n",
    "melb_df['MonthSale'].value_counts(normalize=True)\n",
    "\n",
    "melb_df['AgeBuilding'] = melb_df['Date'].dt.year - melb_df['YearBuilt']\n",
    "#display(melb_df['AgeBuilding'])\n",
    "melb_df = melb_df.drop(['YearBuilt'], axis=1)\n",
    "#display(melb_df.head())\n",
    "\n",
    "melb_df['WeekdaySale'] = melb_df['Date'].dt.dayofweek\n",
    "weekend_count = melb_df[(melb_df['WeekdaySale'] == 5) | (melb_df['WeekdaySale'] == 6)].shape[0]\n",
    "#print(weekend_count, 'объектов недвижимости было продано в выходные')\n",
    "\n",
    "# В наших данных есть столбец с адресами объектов недвижимости\n",
    "# check количество уникальных значений в столбце с помощью метода nunique()\n",
    "#print('количество уникальных значений в столбце', melb_df['Address'].nunique())\n",
    "\n",
    "# давайте извлечём из признака адреса характеристику подтипа улицы (улица, шоссе, авеню, бульвар)\n",
    "# Для этого сначала внимательнее посмотрим на структуру адреса, выберем несколько строк столбца Address\n",
    "#print(melb_df['Address'].loc[177])\n",
    "#print(melb_df['Address'].loc[1812])\n",
    "#print(melb_df['Address'].loc[9001])\n",
    "\n",
    "# Для того чтобы выделить подтип улицы, на которой находится объект, можно использовать следующую функцию:\n",
    "# На вход данной функции поступает строка с адресом.\n",
    "def get_street_type(address):\n",
    "    exclude_list = ['N', 'S', 'W', 'E'] # Создаём список географических пометок exclude_list.\n",
    "    address_list = address.split(' ') # Метод split() разбивает строку на слова по пробелу, получаем список слов в строке \n",
    "    street_type = address_list[-1] # Обрезаем список, оставляя в нём только последний элемент, потенциальный подтип улицы\n",
    "    if street_type in exclude_list: # Делаем проверку на то, что полученный подтип является географической пометкой at exclude_list\n",
    "        street_type = address_list[-2] # Если переменная street_type является географической пометкой change на второй элемент с конца \n",
    "    return street_type\n",
    "# Теперь применим эту функцию к столбцу c адресом \n",
    "# передадим функцию get_street_type в аргумент метода столбца apply()\n",
    "street_types = melb_df['Address'].apply(get_street_type)\n",
    "#display(street_types)\n",
    "# функция пишется для одного элемента столбца, а метод apply() применяется к каждому его элементу\n",
    "\n",
    "# мы смогли выделить подтип улицы. Посмотрим, сколько уникальных значений у нас получилось\n",
    "#print(street_types.nunique())\n",
    "\n",
    "popular_stypes = street_types.value_counts().nlargest(10).index\n",
    "#print(popular_stypes)\n",
    "\n",
    "melb_df['StreetType'] = street_types.apply(lambda x: x if x in popular_stypes else 'others')\n",
    "#display(melb_df['StreetType'])\n",
    "\n",
    "melb_df = melb_df.drop('Address', axis=1)\n",
    "#display(melb_df.head())\n",
    "\n",
    "def get_weekend(weekday):\n",
    "    if weekday == 5 or weekday == 6:\n",
    "        return 1\n",
    "    else:\n",
    "        return 0\n",
    "\n",
    "melb_df['Weekend'] = melb_df['WeekdaySale'].apply(get_weekend)\n",
    "#print(round(melb_df[(melb_df['Weekend'] == 1)]['Price'].mean()))\n",
    "\n",
    "popular_seler = melb_df['SellerG'].value_counts().nlargest(49).index\n",
    "# заменяем значения улиц, не попавших в список популярных на строку 'other'\n",
    "melb_df['SellerG'] = melb_df['SellerG'].apply(lambda x: x if x in popular_seler else 'other') \n",
    "a = melb_df[melb_df['SellerG'] == 'Nelson']['Price'].min() \n",
    "b = melb_df[melb_df['SellerG'] == 'other']['Price'].min() \n",
    "#print(round(a/b, 1))\n",
    "\n",
    "# ВАЖНО!!!! ВЫУЧИТЬ!!!\n",
    "# Давайте определим число уникальных категорий в каждом столбце нашей таблицы melb_df. \n",
    "# Для этого создадим вспомогательную таблицу unique_counts:\n",
    "# создаём пустой список, в который будем добавлять кортежи: имя столбца, количество уникальных значений в нём и тип столбца\n",
    "unique_list = [] \n",
    "# В цикле перебираем имена столбцов, которые получаем с помощью атрибута columns\n",
    "for col in melb_df.columns: # В переменной col на каждой итерации находятся имена столбцов\n",
    "    # создаём кортеж (имя столбца, число уникальных значений)\n",
    "    item = (col, melb_df[col].nunique(),melb_df[col].dtype) \n",
    "    # добавляем кортеж в список\n",
    "    unique_list.append(item) \n",
    "# создаём вспомогательную таблицу и сортируем её, даём названия его столбцам: Column_Name, Num_unique и Type.\n",
    "unique_counts = pd.DataFrame(\n",
    "    unique_list,\n",
    "    columns=['Column_Name', 'Num_Unique', 'Type']\n",
    ").sort_values(by='Num_Unique',  ignore_index=True) # Сортируем таблицу по столбцу: by = 'Num_unique' в порядке возрастания количества уникальных элементов с помощью метода sort_values() \n",
    "# выводим её на экран\n",
    "#display(unique_counts)\n",
    "\n",
    "# Сделаем преобразование столбцов к типу данных category:\n",
    "cols_to_exclude = ['Date', 'Rooms', 'Bedroom', 'Bathroom', 'Car'] # список столбцов, которые мы не берём во внимание\n",
    "max_unique_count = 150 # задаём максимальное число уникальных категорий\n",
    "for col in melb_df.columns: # В цикле перебираем имена столбцов, и, если число уникальных категорий меньше заданного порога и имён столбцов нет в списке cols_to_exclude, то с помощью метода astype() приводим столбец к типу данных category.\n",
    "    if melb_df[col].nunique() < max_unique_count and col not in cols_to_exclude: # проверяем условие\n",
    "        melb_df[col] = melb_df[col].astype('category') # преобразуем тип столбца\n",
    "#display(melb_df.info())"
   ]
  },
  {
   "cell_type": "code",
   "execution_count": 2,
   "metadata": {},
   "outputs": [
    {
     "name": "stdout",
     "output_type": "stream",
     "text": [
      "Index(['Eastern Metropolitan', 'Eastern Victoria', 'Northern Metropolitan',\n",
      "       'Northern Victoria', 'South-Eastern Metropolitan',\n",
      "       'Southern Metropolitan', 'Western Metropolitan', 'Western Victoria'],\n",
      "      dtype='object')\n"
     ]
    }
   ],
   "source": [
    "# с помощью атрибута этого аксессора categories мы можем получить список уникальных категорий в столбце Regionname\n",
    "print(melb_df['Regionname'].cat.categories)"
   ]
  },
  {
   "cell_type": "code",
   "execution_count": 3,
   "metadata": {},
   "outputs": [
    {
     "data": {
      "text/plain": [
       "0        2\n",
       "1        2\n",
       "2        2\n",
       "3        2\n",
       "4        2\n",
       "        ..\n",
       "13575    4\n",
       "13576    6\n",
       "13577    6\n",
       "13578    6\n",
       "13579    6\n",
       "Length: 13580, dtype: int8"
      ]
     },
     "metadata": {},
     "output_type": "display_data"
    }
   ],
   "source": [
    "# атрибут codes\n",
    "# посмотрим, каким образом столбец кодируется в виде чисел в памяти компьютера.\n",
    "display(melb_df['Regionname'].cat.codes)"
   ]
  },
  {
   "cell_type": "code",
   "execution_count": 6,
   "metadata": {},
   "outputs": [
    {
     "data": {
      "text/plain": [
       "0        house\n",
       "1        house\n",
       "2        house\n",
       "3        house\n",
       "4        house\n",
       "         ...  \n",
       "13575    house\n",
       "13576    house\n",
       "13577    house\n",
       "13578    house\n",
       "13579    house\n",
       "Name: Type, Length: 13580, dtype: category\n",
       "Categories (3, object): ['house', 'townhouse', 'unit']"
      ]
     },
     "metadata": {},
     "output_type": "display_data"
    }
   ],
   "source": [
    "# rename_categories() \n",
    "# переименовать текущие значения категорий\n",
    "# нужно передать словарь, ключи которого — старые имена категорий, а значения — новые\n",
    "melb_df['Type'] = melb_df['Type'].cat.rename_categories({\n",
    "    'u': 'unit',\n",
    "    't': 'townhouse',\n",
    "    'h': 'house'\n",
    "})\n",
    "display(melb_df['Type'])"
   ]
  }
 ],
 "metadata": {
  "interpreter": {
   "hash": "5d240ba0dc525c389faa33f5dcce5b4f32b6d6aa6d70d6d2dd929bd2b09ab69f"
  },
  "kernelspec": {
   "display_name": "Python 3.10.1 64-bit",
   "language": "python",
   "name": "python3"
  },
  "language_info": {
   "codemirror_mode": {
    "name": "ipython",
    "version": 3
   },
   "file_extension": ".py",
   "mimetype": "text/x-python",
   "name": "python",
   "nbconvert_exporter": "python",
   "pygments_lexer": "ipython3",
   "version": "3.10.1"
  },
  "orig_nbformat": 4
 },
 "nbformat": 4,
 "nbformat_minor": 2
}
