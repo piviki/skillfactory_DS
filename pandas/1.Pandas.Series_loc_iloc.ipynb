{
 "cells": [
  {
   "cell_type": "markdown",
   "metadata": {},
   "source": [
    "##### Pandas.Series\n",
    "##### Для создания объекта Series используется команда pd.Series()\n",
    "##### Series — это упорядоченная изменяемая коллекция объектов, имеющая так называемые ассоциативные метки (индексы"
   ]
  },
  {
   "cell_type": "code",
   "execution_count": 1,
   "metadata": {},
   "outputs": [
    {
     "data": {
      "text/plain": [
       "UK       Англия\n",
       "CA       Канада\n",
       "US          США\n",
       "RU       Россия\n",
       "UA      Украина\n",
       "BY     Беларусь\n",
       "KZ    Казахстан\n",
       "Name: countries, dtype: object"
      ]
     },
     "metadata": {},
     "output_type": "display_data"
    }
   ],
   "source": [
    "# Способ 1 — из списка с использованием параметров функции pd.Series():\n",
    "import pandas as pd\n",
    "countries = pd.Series(\n",
    "    data = ['Англия', 'Канада', 'США', 'Россия', 'Украина', 'Беларусь', 'Казахстан'],\n",
    "    index = ['UK', 'CA', 'US', 'RU', 'UA', 'BY', 'KZ'],\n",
    "    name = 'countries'\n",
    ")\n",
    "display(countries)"
   ]
  },
  {
   "cell_type": "code",
   "execution_count": 2,
   "metadata": {},
   "outputs": [
    {
     "data": {
      "text/plain": [
       "0       Англия\n",
       "1       Канада\n",
       "2          США\n",
       "3       Россия\n",
       "4      Украина\n",
       "5     Беларусь\n",
       "6    Казахстан\n",
       "dtype: object"
      ]
     },
     "metadata": {},
     "output_type": "display_data"
    }
   ],
   "source": [
    "# Если оставить параметр index пустым, то метки будут присвоены автоматически в виде порядковых номеров элементов, например\n",
    "countries = pd.Series(\n",
    "    ['Англия', 'Канада', 'США', 'Россия', 'Украина', 'Беларусь', 'Казахстан']\n",
    ")\n",
    "display(countries)"
   ]
  },
  {
   "cell_type": "code",
   "execution_count": 3,
   "metadata": {},
   "outputs": [
    {
     "data": {
      "text/plain": [
       "UK       Англия\n",
       "CA       Канада\n",
       "US          США\n",
       "RU       Россия\n",
       "UA      Украина\n",
       "BY     Беларусь\n",
       "KZ    Казахстан\n",
       "Name: countries, dtype: object"
      ]
     },
     "metadata": {},
     "output_type": "display_data"
    }
   ],
   "source": [
    "# Способ 2 — из словаря, в котором ключами являются будущие метки, а значениями — будущие значения Series, при этом использование параметра name также возможно:\n",
    "countries = pd.Series({\n",
    "    'UK': 'Англия',\n",
    "    'CA': 'Канада',\n",
    "    'US' : 'США',\n",
    "    'RU': 'Россия',\n",
    "    'UA': 'Украина',\n",
    "    'BY': 'Беларусь',\n",
    "    'KZ': 'Казахстан'},\n",
    "    name = 'countries'\n",
    ")\n",
    "display(countries)"
   ]
  },
  {
   "cell_type": "code",
   "execution_count": null,
   "metadata": {},
   "outputs": [],
   "source": [
    "# Доступ к элементам осуществляется с использованием loc или iloc\n",
    "# .loc вызывается с квадратными скобками, в которые передаются метки\n",
    "# можно передать как один индекс, так и список"
   ]
  },
  {
   "cell_type": "code",
   "execution_count": 4,
   "metadata": {},
   "outputs": [
    {
     "name": "stdout",
     "output_type": "stream",
     "text": [
      "США\n"
     ]
    }
   ],
   "source": [
    "import pandas as pd\n",
    "countries = pd.Series({\n",
    "    'UK': 'Англия',\n",
    "    'CA': 'Канада',\n",
    "    'US' : 'США',\n",
    "    'RU': 'Россия',\n",
    "    'UA': 'Украина',\n",
    "    'BY': 'Беларусь',\n",
    "    'KZ': 'Казахстан'},\n",
    "    name = 'countries'\n",
    ")\n",
    "\n",
    "print(countries.loc['US']) # получим строку"
   ]
  },
  {
   "cell_type": "code",
   "execution_count": 5,
   "metadata": {},
   "outputs": [
    {
     "name": "stdout",
     "output_type": "stream",
     "text": [
      "US       США\n",
      "RU    Россия\n",
      "UK    Англия\n",
      "Name: countries, dtype: object\n"
     ]
    }
   ],
   "source": [
    "# Для того чтобы достать информацию по нескольким индексам, необходимо обернуть интересующие индексы в список: и добавить еще одни квадратные скобки\n",
    "print(countries.loc[['US', 'RU', 'UK']]) # получим, возвращается объект Series"
   ]
  },
  {
   "cell_type": "code",
   "execution_count": 6,
   "metadata": {},
   "outputs": [
    {
     "name": "stdout",
     "output_type": "stream",
     "text": [
      "Канада\n"
     ]
    }
   ],
   "source": [
    "# .iloc также вызывается с квадратными скобками и принимает на вход порядковые номера элементов Series \n",
    "# (нумерация начинаются с 0). В него можно так же передавать как один индекс, так и диапазон чисел\n",
    "print(countries.iloc[1]) # получим строку"
   ]
  },
  {
   "cell_type": "code",
   "execution_count": 7,
   "metadata": {},
   "outputs": [
    {
     "name": "stdout",
     "output_type": "stream",
     "text": [
      "UK    Англия\n",
      "CA    Канада\n",
      "US       США\n",
      "Name: countries, dtype: object\n"
     ]
    }
   ],
   "source": [
    "print(countries.iloc[0:3]) # возвращается объект Series"
   ]
  },
  {
   "cell_type": "code",
   "execution_count": 13,
   "metadata": {},
   "outputs": [
    {
     "name": "stdout",
     "output_type": "stream",
     "text": [
      "UK     Англия\n",
      "US        США\n",
      "UA    Украина\n",
      "Name: countries, dtype: object\n"
     ]
    }
   ],
   "source": [
    "# На самом деле loc и iloc можно опустить и обращаться к элементам Series напрямую по индексам\n",
    "print(countries[['UK', 'US', 'UA']]) "
   ]
  },
  {
   "cell_type": "code",
   "execution_count": 12,
   "metadata": {},
   "outputs": [
    {
     "name": "stdout",
     "output_type": "stream",
     "text": [
      "UK     Англия\n",
      "US        США\n",
      "UA    Украина\n",
      "Name: countries, dtype: object\n"
     ]
    }
   ],
   "source": [
    "print(countries[[0, 2, 4]])"
   ]
  },
  {
   "cell_type": "code",
   "execution_count": null,
   "metadata": {},
   "outputs": [],
   "source": [
    "#В аптеку поступают партии лекарств. Их названия находятся в списке names, количество единиц товара находится в списке counts.\n",
    "# Например:\n",
    "# names=['chlorhexidine', 'cyntomycin', 'afobazol']\n",
    "# counts=[15, 18, 7]\n",
    "# Напишите функцию create_medications(names, counts), создающую Series medications, индексами которого являются названия лекарств names, а значениями — их количество в партии counts.\n",
    "# Также напишите функцию get_percent(medications, name), которая возвращает долю товара с именем name от общего количества товаров в партии в процентах."
   ]
  },
  {
   "cell_type": "code",
   "execution_count": 15,
   "metadata": {},
   "outputs": [
    {
     "name": "stdout",
     "output_type": "stream",
     "text": [
      "chlorhexidine    15\n",
      "cyntomycin       18\n",
      "afobazol          7\n",
      "dtype: int64\n"
     ]
    }
   ],
   "source": [
    "# Напишите функцию create_medications(names, counts), создающую Series medications, индексами которого являются названия лекарств names, а значениями — их количество в партии counts\n",
    "import pandas as pd\n",
    "names=['chlorhexidine', 'cyntomycin', 'afobazol']\n",
    "counts=[15, 18, 7]\n",
    "def create_medications(names, counts):\n",
    "    medications = pd.Series(index=names, data=counts)\n",
    "    return medications\n",
    "print(create_medications(names, counts))"
   ]
  },
  {
   "cell_type": "code",
   "execution_count": 21,
   "metadata": {},
   "outputs": [
    {
     "name": "stdout",
     "output_type": "stream",
     "text": [
      "chlorhexidine    37.5\n",
      "cyntomycin       45.0\n",
      "afobazol         17.5\n",
      "dtype: float64\n"
     ]
    }
   ],
   "source": [
    "# Также напишите функцию get_percent(medications, names), которая возвращает долю товара с именем name от общего количества товаров в партии в процентах\n",
    "import pandas as pd\n",
    "def get_percent(medications, names):\n",
    "        return(medications.loc[names]/sum(medications) * 100)\n",
    "names=['chlorhexidine', 'cyntomycin', 'afobazol']\n",
    "counts=[15, 18, 7]\n",
    "medications = pd.Series(index=names, data=counts)\n",
    "print(get_percent(medications, names))"
   ]
  }
 ],
 "metadata": {
  "interpreter": {
   "hash": "6d46af94c2bbce495f1e668725902fa517c90b1782bcfe2fce0dd9868df553d3"
  },
  "kernelspec": {
   "display_name": "Python 3.9.7 ('base')",
   "language": "python",
   "name": "python3"
  },
  "language_info": {
   "codemirror_mode": {
    "name": "ipython",
    "version": 3
   },
   "file_extension": ".py",
   "mimetype": "text/x-python",
   "name": "python",
   "nbconvert_exporter": "python",
   "pygments_lexer": "ipython3",
   "version": "3.10.1"
  },
  "orig_nbformat": 4
 },
 "nbformat": 4,
 "nbformat_minor": 2
}
