{
 "cells": [
  {
   "cell_type": "code",
   "execution_count": null,
   "metadata": {},
   "outputs": [],
   "source": [
    "# МЕТОД ОБЪЕДИНЕНИЯ JOIN()\n",
    "# Для объединения двух таблиц по индексам \n",
    "# объединить таблицы по ключевому столбцу (в нашем случае это movieId)."
   ]
  },
  {
   "cell_type": "code",
   "execution_count": null,
   "metadata": {},
   "outputs": [],
   "source": [
    "# DataFrame.join(\n",
    "# other,  \n",
    "# on=None, \n",
    "# how='left', \n",
    "# lsuffix='', \n",
    "# rsuffix='', \n",
    "# sort=False)\n",
    "\n",
    "# other — таблица, которую мы присоединяем. При объединении она является «правой», а исходная таблица, от имени которой вызывается метод, является «левой».\n",
    "# how — параметр типа объединения. Он может принимать значения 'inner', 'left' (left outer), 'right' (right outer), и 'outer' (full outer). По умолчанию параметр установлен на 'left'.\n",
    "# on — параметр, который определяет, по какому столбцу в «левой» таблице происходит объединение по индексам из «правой». (vlookup)\n",
    "# lsuffix и rsuffix — дополнения (суффиксы) к названиям одноимённых столбцов в «левой» и «правой» таблицах."
   ]
  },
  {
   "cell_type": "code",
   "execution_count": 1,
   "metadata": {},
   "outputs": [],
   "source": [
    "import pandas as pd\n",
    "ratings1 = pd.read_csv('data/ratings1.csv')\n",
    "ratings2 = pd.read_csv('data/ratings2.csv')\n",
    "dates = pd.read_csv('data/dates.csv')\n",
    "movies = pd.read_csv('data/movies.csv')"
   ]
  },
  {
   "cell_type": "code",
   "execution_count": null,
   "metadata": {},
   "outputs": [],
   "source": [
    "ratings = pd.concat([ratings1, ratings2])\n"
   ]
  }
 ],
 "metadata": {
  "interpreter": {
   "hash": "5d240ba0dc525c389faa33f5dcce5b4f32b6d6aa6d70d6d2dd929bd2b09ab69f"
  },
  "kernelspec": {
   "display_name": "Python 3.10.1 64-bit",
   "language": "python",
   "name": "python3"
  },
  "language_info": {
   "codemirror_mode": {
    "name": "ipython",
    "version": 3
   },
   "file_extension": ".py",
   "mimetype": "text/x-python",
   "name": "python",
   "nbconvert_exporter": "python",
   "pygments_lexer": "ipython3",
   "version": "3.10.1"
  },
  "orig_nbformat": 4
 },
 "nbformat": 4,
 "nbformat_minor": 2
}
