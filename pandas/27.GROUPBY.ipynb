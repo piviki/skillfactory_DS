{
 "cells": [
  {
   "cell_type": "code",
   "execution_count": null,
   "metadata": {},
   "outputs": [],
   "source": [
    "# Группировка данных в DataFrame\n",
    "# МЕТОД GROUPBY()\n",
    "# возвращает объект DataFrameGroupBy\n",
    "# хранит в себе информацию о том, какие строки относятся к определённой группе\n",
    "# можно применять уже знакомые нам агрегирующие методы (mean, median, sum )\n",
    "# HTTPS://PANDAS.PYDATA.ORG/DOCS/REFERENCE/API/PANDAS.DATAFRAME.GROUPBY.HTML"
   ]
  },
  {
   "cell_type": "code",
   "execution_count": null,
   "metadata": {},
   "outputs": [],
   "source": [
    " #DataFrame.groupby(by=None, \n",
    "#                   axis=0, \n",
    "#                   level=None, \n",
    "#                   as_index=True, \n",
    "#                   sort=True, \n",
    "#                   group_keys=True, \n",
    "#                   squeeze=NoDefault.no_default, \n",
    "#                   observed=False, \n",
    "#                   dropna=True)\n"
   ]
  },
  {
   "cell_type": "code",
   "execution_count": null,
   "metadata": {},
   "outputs": [],
   "source": [
    "import pandas as pd\n",
    "melb_df = pd.read_csv('data/melb_data_fe.csv')\n",
    "#display(melb_df.head(3))\n",
    "\n",
    "melb_df['Date'] = pd.to_datetime(melb_df['Date'])\n",
    "quarter_sold = melb_df['Date'].dt.quarter"
   ]
  },
  {
   "cell_type": "code",
   "execution_count": null,
   "metadata": {},
   "outputs": [],
   "source": [
    "# ГРУПLПИРОВКА ДАННЫХ ПО ОДНОМУ КРИТЕРИЮ С ОДНОЙ АГРЕГАЦИЕЙ"
   ]
  },
  {
   "cell_type": "code",
   "execution_count": null,
   "metadata": {},
   "outputs": [],
   "source": []
  }
 ],
 "metadata": {
  "interpreter": {
   "hash": "5d240ba0dc525c389faa33f5dcce5b4f32b6d6aa6d70d6d2dd929bd2b09ab69f"
  },
  "kernelspec": {
   "display_name": "Python 3.10.1 64-bit",
   "language": "python",
   "name": "python3"
  },
  "language_info": {
   "name": "python",
   "version": "3.10.1"
  },
  "orig_nbformat": 4
 },
 "nbformat": 4,
 "nbformat_minor": 2
}
