{
 "cells": [
  {
   "cell_type": "code",
   "execution_count": null,
   "metadata": {},
   "outputs": [],
   "source": [
    "# ПОЛУЧЕНИЕ ОПИСАТЕЛЬНОЙ СТАТИСТИКИ\n",
    "# Часто при работе с таблицей нужно быстро посмотреть на основные статистические свойства её столбцов\n",
    "#  DataFrame describe()"
   ]
  },
  {
   "cell_type": "code",
   "execution_count": null,
   "metadata": {},
   "outputs": [],
   "source": [
    "import pandas as pd\n",
    "# melb_data.to_csv('data/melb_data.csv', index=False, sep=';')\n",
    "data = pd.read_csv('data/melb_data.csv', sep = ';')\n",
    "#display(data)"
   ]
  }
 ],
 "metadata": {
  "language_info": {
   "name": "python"
  },
  "orig_nbformat": 4
 },
 "nbformat": 4,
 "nbformat_minor": 2
}
