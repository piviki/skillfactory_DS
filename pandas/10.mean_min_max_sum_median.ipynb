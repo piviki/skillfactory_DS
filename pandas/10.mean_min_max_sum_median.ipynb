{
 "cells": [
  {
   "cell_type": "code",
   "execution_count": null,
   "metadata": {},
   "outputs": [],
   "source": [
    "# агрегирующие функции \n",
    "# mean()\n",
    "# min()\n",
    "# max()\n",
    "# sum()\n",
    "# median() "
   ]
  },
  {
   "cell_type": "code",
   "execution_count": 1,
   "metadata": {},
   "outputs": [
    {
     "data": {
      "text/plain": [
       "1075684.079455081"
      ]
     },
     "execution_count": 1,
     "metadata": {},
     "output_type": "execute_result"
    }
   ],
   "source": [
    "import pandas as pd\n",
    "# melb_data.to_csv('data/melb_data.csv', index=False, sep=';')\n",
    "data = pd.read_csv('data/melb_data.csv', sep = ';')\n",
    "#display(data)\n",
    "\n",
    "# Вычислим среднюю цену на объекты недвижимости = mean()\n",
    "data['Price'].mean()"
   ]
  },
  {
   "cell_type": "code",
   "execution_count": 2,
   "metadata": {},
   "outputs": [
    {
     "data": {
      "text/plain": [
       "10.0"
      ]
     },
     "execution_count": 2,
     "metadata": {},
     "output_type": "execute_result"
    }
   ],
   "source": [
    "# Найдём максимальное количество парковочных мест:\n",
    "data['Car'].max()"
   ]
  },
  {
   "cell_type": "code",
   "execution_count": 4,
   "metadata": {},
   "outputs": [
    {
     "name": "stdout",
     "output_type": "stream",
     "text": [
      "Total income of real estate agencies: 1752934775.88\n"
     ]
    }
   ],
   "source": [
    "# представим, что риэлторская ставка для всех компаний за продажу недвижимости составляет 12%. Найдём общую прибыльность риэлторского бизнеса в Мельбурне. Результат округлим до сотых:\n",
    "rate = 0.12\n",
    "income = data['Price'].sum()*rate\n",
    "print('Total income of real estate agencies:', round(income,2))"
   ]
  },
  {
   "cell_type": "code",
   "execution_count": 1,
   "metadata": {},
   "outputs": [
    {
     "ename": "NameError",
     "evalue": "name 'data' is not defined",
     "output_type": "error",
     "traceback": [
      "\u001b[1;31m---------------------------------------------------------------------------\u001b[0m",
      "\u001b[1;31mNameError\u001b[0m                                 Traceback (most recent call last)",
      "\u001b[1;32md:\\IDE_2\\pandas\\10.mean_min_max_sum_median.ipynb Cell 5'\u001b[0m in \u001b[0;36m<cell line: 2>\u001b[1;34m()\u001b[0m\n\u001b[0;32m      <a href='vscode-notebook-cell:/d%3A/IDE_2/pandas/10.mean_min_max_sum_median.ipynb#ch0000004?line=0'>1</a>\u001b[0m \u001b[39m# Найдём, насколько медианная площадь территории отличается от её среднего значения. Вычислим модуль разницы между медианой и средним и разделим результат на среднее, чтобы получить отклонение в долях\u001b[39;00m\n\u001b[1;32m----> <a href='vscode-notebook-cell:/d%3A/IDE_2/pandas/10.mean_min_max_sum_median.ipynb#ch0000004?line=1'>2</a>\u001b[0m landsize_median \u001b[39m=\u001b[39m data[\u001b[39m'\u001b[39m\u001b[39mLandsize\u001b[39m\u001b[39m'\u001b[39m]\u001b[39m.\u001b[39mmedian()\n\u001b[0;32m      <a href='vscode-notebook-cell:/d%3A/IDE_2/pandas/10.mean_min_max_sum_median.ipynb#ch0000004?line=2'>3</a>\u001b[0m landsize_mean \u001b[39m=\u001b[39m data[\u001b[39m'\u001b[39m\u001b[39mLandsize\u001b[39m\u001b[39m'\u001b[39m]\u001b[39m.\u001b[39mmean()\n\u001b[0;32m      <a href='vscode-notebook-cell:/d%3A/IDE_2/pandas/10.mean_min_max_sum_median.ipynb#ch0000004?line=3'>4</a>\u001b[0m \u001b[39mprint\u001b[39m(abc((landsize_median\u001b[39m-\u001b[39mandsize_mean)\u001b[39m/\u001b[39mandsize_mean)\u001b[39m*\u001b[39m\u001b[39m100\u001b[39m)\n",
      "\u001b[1;31mNameError\u001b[0m: name 'data' is not defined"
     ]
    }
   ],
   "source": [
    "# Найдём, насколько медианная площадь территории отличается от её среднего значения. Вычислим модуль разницы между медианой и средним и разделим результат на среднее, чтобы получить отклонение в долях\n",
    "landsize_median = data['Landsize'].median()\n",
    "landsize_mean = data['Landsize'].mean()\n",
    "print(abc((landsize_median-andsize_mean)/andsize_mean)*100)"
   ]
  }
 ],
 "metadata": {
  "interpreter": {
   "hash": "5d240ba0dc525c389faa33f5dcce5b4f32b6d6aa6d70d6d2dd929bd2b09ab69f"
  },
  "kernelspec": {
   "display_name": "Python 3.10.1 64-bit",
   "language": "python",
   "name": "python3"
  },
  "language_info": {
   "codemirror_mode": {
    "name": "ipython",
    "version": 3
   },
   "file_extension": ".py",
   "mimetype": "text/x-python",
   "name": "python",
   "nbconvert_exporter": "python",
   "pygments_lexer": "ipython3",
   "version": "3.10.1"
  },
  "orig_nbformat": 4
 },
 "nbformat": 4,
 "nbformat_minor": 2
}
