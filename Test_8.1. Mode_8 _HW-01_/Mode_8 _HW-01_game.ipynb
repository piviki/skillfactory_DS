{
 "cells": [
  {
   "cell_type": "markdown",
   "metadata": {},
   "source": [
    "## Guess a number"
   ]
  },
  {
   "cell_type": "code",
   "execution_count": 6,
   "metadata": {},
   "outputs": [
    {
     "name": "stdout",
     "output_type": "stream",
     "text": [
      "Количество попыток (Number of attempts): 286\n",
      "Компьютер угадал число за 5 попыток. Это число 60\n"
     ]
    }
   ],
   "source": [
    "import numpy as np\n",
    "\n",
    "def random_predict(number:int=1) -> int:\n",
    "    \"\"\" Рандомно угадываем число (Randomly guess a number)\n",
    "\n",
    "    Args:\n",
    "        number (int, optional): Загаданное число (Hidden number). Defaults to 1.\n",
    "\n",
    "    Returns:\n",
    "        int: Число попыток (Number of attempts)\n",
    "    \"\"\"\n",
    "\n",
    "    count = 0\n",
    "\n",
    "    while True:\n",
    "        count += 1\n",
    "        predict_number = np.random.randint(1, 100) # 1.Our computer thinks of an integer number from 1 to 100\n",
    "        if number == predict_number:\n",
    "            break # exit from the loop if guessed correctly\n",
    "    return(count)\n",
    "print(f'Количество попыток (Number of attempts): {random_predict()}')\n",
    "\n",
    "def score_game(random_predict) -> int:\n",
    "    \"\"\"За какое количество попыток в среднем из 1000 подходов угадывает наш алгоритм \n",
    "    (Attempts mean amount over 1000 approaches that guesses a number at our algorithm)\n",
    "\n",
    "    Args:\n",
    "        random_predict ([type]): функция угадывания (Guess function)\n",
    "\n",
    "    Returns:\n",
    "        int: среднее количество попыток (Mean number of attempts)\n",
    "    \"\"\"\n",
    "\n",
    "    count_ls = [] # список для сохранения количества попыток (creating a list to save the number of attempts)\n",
    "    np.random.seed(1) # фиксируем сид для воспроизводимости (fixing seed() for different values availability)\n",
    "    random_array = np.random.randint(1, 101, size=(1000)) # загадали список чисел (made a list of numbers)\n",
    "\n",
    "    for number in random_array:\n",
    "        count_ls.append(random_predict(number))\n",
    "\n",
    "    score = int(np.mean(count_ls)) # находим среднее количество попыток (find the attempts mean number)\n",
    "\n",
    "    print(f'Ваш алгоритм угадывает число в среднем за: {score} попыток')\n",
    "    #print(f'Your algorithm guesses the number in: {score} times on mean attempts')\n",
    "    return(score)\n",
    "\n",
    "def optimal_predict(number: int = 1) -> int:\n",
    "    \"\"\"Компьютер угадает число меньше чем за 20 попыток\n",
    "    \n",
    "    (The computer guesses a number in less than 20 attempts)\n",
    "    \"\"\"\n",
    "\n",
    "    import numpy as np\n",
    "\n",
    "    min = 1\n",
    "    max = 101\n",
    "\n",
    "    number = np.random.randint(min, max)\n",
    "\n",
    "    count = 0\n",
    "\n",
    "    while True:\n",
    "        count+=1\n",
    "        mid = (min+max) // 2\n",
    "    \n",
    "        if mid > number:\n",
    "            max = mid\n",
    "    \n",
    "        elif mid < number:\n",
    "            min = mid\n",
    "\n",
    "        else:\n",
    "            print(f'Компьютер угадал число за {count} попыток. Это число {number}')\n",
    "            #print(f'The computer guessed the number within  {count} attempts. The number is {number}')\n",
    "            break #конец игры выход из цикла (loop exit)\n",
    "    return count\n",
    "\n",
    "optimal_predict(5)\n",
    "\n",
    "# RUN # Запустите полученный код через кнопку RUN\n",
    "if __name__ == '__main__':\n",
    "    score_game(random_predict)"
   ]
  },
  {
   "cell_type": "code",
   "execution_count": null,
   "metadata": {},
   "outputs": [],
   "source": [
    "n = 10\n",
    "z = n\n",
    "n = 5"
   ]
  }
 ],
 "metadata": {
  "interpreter": {
   "hash": "5d240ba0dc525c389faa33f5dcce5b4f32b6d6aa6d70d6d2dd929bd2b09ab69f"
  },
  "kernelspec": {
   "display_name": "Python 3.10.1 64-bit",
   "language": "python",
   "name": "python3"
  },
  "language_info": {
   "codemirror_mode": {
    "name": "ipython",
    "version": 3
   },
   "file_extension": ".py",
   "mimetype": "text/x-python",
   "name": "python",
   "nbconvert_exporter": "python",
   "pygments_lexer": "ipython3",
   "version": "3.10.1"
  },
  "orig_nbformat": 4
 },
 "nbformat": 4,
 "nbformat_minor": 2
}
