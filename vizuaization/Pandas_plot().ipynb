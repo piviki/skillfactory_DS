{
 "cells": [
  {
   "cell_type": "code",
   "execution_count": null,
   "metadata": {},
   "outputs": [],
   "source": [
    "# Основным методом для создания простейших графиков в Pandas является plot()\n",
    "# https://pandas.pydata.org/pandas-docs/stable/reference/api/pandas.DataFrame.plot.html"
   ]
  },
  {
   "cell_type": "code",
   "execution_count": null,
   "metadata": {},
   "outputs": [],
   "source": [
    "# Основные параметры метода plot()\n",
    "o\tx — название признака, который будет отложен по оси абсцисс;\n",
    "o\ty — название признака, который будет отложен по оси ординат;\n",
    "o\tfigsize — размер графика (кортеж из ширины и высоты в дюймах);\n",
    "o\tkind —тип визуализации. Основные типы:\n",
    "\t'line' — линейный график (по умолчанию);\n",
    "\t'bar' — столбчатая диаграмма;\n",
    "\t'barh' — горизонтальная столбчатая диаграмма;\n",
    "\t'hist' — гистограмма;\n",
    "\t'box' — коробчатая диаграмма (boxplot);\n",
    "\t'pie' — круговая диаграмма;\n",
    "\t'scatter' — диаграмма рассеяния.\n",
    "o\tgrid — отображение сетки (по умолчанию False);\n",
    "o\tlegend — отображение легенды (по умолчанию False);\n",
    "o\ttitle — название графика;\n",
    "o\tcolor — цвет.\n"
   ]
  }
 ],
 "metadata": {
  "language_info": {
   "name": "python"
  },
  "orig_nbformat": 4
 },
 "nbformat": 4,
 "nbformat_minor": 2
}
