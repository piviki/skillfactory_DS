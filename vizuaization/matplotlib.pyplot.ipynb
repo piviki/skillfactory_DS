{
 "cells": [
  {
   "cell_type": "code",
   "execution_count": null,
   "metadata": {},
   "outputs": [],
   "source": [
    "# Библиотека Matplotlib \n",
    "# объектно-ориентированный режим\n",
    "# Он основан на работе с объектами фигур (figure, их ещё называют канвасами или холстами) \n",
    "# и координатных плоскостей (axes, или системы координат)"
   ]
  },
  {
   "cell_type": "code",
   "execution_count": null,
   "metadata": {},
   "outputs": [],
   "source": [
    "# Процесс работы \n",
    "# сначала создаётся объект фигуры (fig)\n",
    "# размер в дюймах (figsize\n",
    "# метод add_axes() добавляется координатная плоскость\n",
    "# а на ней располагаются графические объекты\n",
    "# Для создания координатной плоскости необходимо указать её расположение на фигуре в виде списка из координат\n",
    "# она начинается в левом нижнем углу без отступов (координаты 0, 0)\n",
    "# и занимает всё отведённое место в области (100%, ширина и высота равны 1)."
   ]
  },
  {
   "cell_type": "code",
   "execution_count": 1,
   "metadata": {},
   "outputs": [
    {
     "data": {
      "image/png": "[encoded data removed]",
      "text/plain": [
       "<Figure size 288x144 with 1 Axes>"
      ]
     },
     "metadata": {
      "needs_background": "light"
     },
     "output_type": "display_data"
    }
   ],
   "source": [
    "import matplotlib.pyplot as plt\n",
    "# % matplotlib inline\n",
    "# plt.style.use('default')\n",
    "\n",
    "fig = plt.figure(figsize =(4,2))\n",
    "axes = fig.add_axes([0,0,1,1])"
   ]
  },
  {
   "cell_type": "code",
   "execution_count": 2,
   "metadata": {},
   "outputs": [
    {
     "data": {
      "text/html": [
       "<div>\n",
       "<style scoped>\n",
       "    .dataframe tbody tr th:only-of-type {\n",
       "        vertical-align: middle;\n",
       "    }\n",
       "\n",
       "    .dataframe tbody tr th {\n",
       "        vertical-align: top;\n",
       "    }\n",
       "\n",
       "    .dataframe thead th {\n",
       "        text-align: right;\n",
       "    }\n",
       "</style>\n",
       "<table border=\"1\" class=\"dataframe\">\n",
       "  <thead>\n",
       "    <tr style=\"text-align: right;\">\n",
       "      <th></th>\n",
       "      <th>Unnamed: 0</th>\n",
       "      <th>date</th>\n",
       "      <th>country</th>\n",
       "      <th>confirmed</th>\n",
       "      <th>deaths</th>\n",
       "      <th>recovered</th>\n",
       "      <th>active</th>\n",
       "      <th>daily_confirmed</th>\n",
       "      <th>daily_deaths</th>\n",
       "      <th>daily_recovered</th>\n",
       "      <th>total_vaccinations</th>\n",
       "      <th>people_vaccinated</th>\n",
       "      <th>people_vaccinated_per_hundred</th>\n",
       "      <th>people_fully_vaccinated</th>\n",
       "      <th>people_fully_vaccinated_per_hundred</th>\n",
       "      <th>daily_vaccinations</th>\n",
       "      <th>vaccines</th>\n",
       "      <th>death_rate</th>\n",
       "      <th>recover_rate</th>\n",
       "    </tr>\n",
       "  </thead>\n",
       "  <tbody>\n",
       "    <tr>\n",
       "      <th>0</th>\n",
       "      <td>0</td>\n",
       "      <td>2020-02-24</td>\n",
       "      <td>Afghanistan</td>\n",
       "      <td>1.0</td>\n",
       "      <td>0.0</td>\n",
       "      <td>0.0</td>\n",
       "      <td>1.0</td>\n",
       "      <td>NaN</td>\n",
       "      <td>NaN</td>\n",
       "      <td>NaN</td>\n",
       "      <td>NaN</td>\n",
       "      <td>NaN</td>\n",
       "      <td>NaN</td>\n",
       "      <td>NaN</td>\n",
       "      <td>NaN</td>\n",
       "      <td>NaN</td>\n",
       "      <td>NaN</td>\n",
       "      <td>0.0</td>\n",
       "      <td>0.0</td>\n",
       "    </tr>\n",
       "    <tr>\n",
       "      <th>1</th>\n",
       "      <td>1</td>\n",
       "      <td>2020-02-25</td>\n",
       "      <td>Afghanistan</td>\n",
       "      <td>1.0</td>\n",
       "      <td>0.0</td>\n",
       "      <td>0.0</td>\n",
       "      <td>1.0</td>\n",
       "      <td>0.0</td>\n",
       "      <td>0.0</td>\n",
       "      <td>0.0</td>\n",
       "      <td>NaN</td>\n",
       "      <td>NaN</td>\n",
       "      <td>NaN</td>\n",
       "      <td>NaN</td>\n",
       "      <td>NaN</td>\n",
       "      <td>NaN</td>\n",
       "      <td>NaN</td>\n",
       "      <td>0.0</td>\n",
       "      <td>0.0</td>\n",
       "    </tr>\n",
       "    <tr>\n",
       "      <th>2</th>\n",
       "      <td>2</td>\n",
       "      <td>2020-02-26</td>\n",
       "      <td>Afghanistan</td>\n",
       "      <td>1.0</td>\n",
       "      <td>0.0</td>\n",
       "      <td>0.0</td>\n",
       "      <td>1.0</td>\n",
       "      <td>0.0</td>\n",
       "      <td>0.0</td>\n",
       "      <td>0.0</td>\n",
       "      <td>NaN</td>\n",
       "      <td>NaN</td>\n",
       "      <td>NaN</td>\n",
       "      <td>NaN</td>\n",
       "      <td>NaN</td>\n",
       "      <td>NaN</td>\n",
       "      <td>NaN</td>\n",
       "      <td>0.0</td>\n",
       "      <td>0.0</td>\n",
       "    </tr>\n",
       "  </tbody>\n",
       "</table>\n",
       "</div>"
      ],
      "text/plain": [
       "   Unnamed: 0        date      country  confirmed  deaths  recovered  active  \\\n",
       "0           0  2020-02-24  Afghanistan        1.0     0.0        0.0     1.0   \n",
       "1           1  2020-02-25  Afghanistan        1.0     0.0        0.0     1.0   \n",
       "2           2  2020-02-26  Afghanistan        1.0     0.0        0.0     1.0   \n",
       "\n",
       "   daily_confirmed  daily_deaths  daily_recovered  total_vaccinations  \\\n",
       "0              NaN           NaN              NaN                 NaN   \n",
       "1              0.0           0.0              0.0                 NaN   \n",
       "2              0.0           0.0              0.0                 NaN   \n",
       "\n",
       "   people_vaccinated  people_vaccinated_per_hundred  people_fully_vaccinated  \\\n",
       "0                NaN                            NaN                      NaN   \n",
       "1                NaN                            NaN                      NaN   \n",
       "2                NaN                            NaN                      NaN   \n",
       "\n",
       "   people_fully_vaccinated_per_hundred  daily_vaccinations vaccines  \\\n",
       "0                                  NaN                 NaN      NaN   \n",
       "1                                  NaN                 NaN      NaN   \n",
       "2                                  NaN                 NaN      NaN   \n",
       "\n",
       "   death_rate  recover_rate  \n",
       "0         0.0           0.0  \n",
       "1         0.0           0.0  \n",
       "2         0.0           0.0  "
      ]
     },
     "metadata": {},
     "output_type": "display_data"
    }
   ],
   "source": [
    "import pandas as pd\n",
    "covid_df = pd.read_csv('data/covid_df.csv')\n",
    "display(covid_df.head(3))"
   ]
  },
  {
   "cell_type": "code",
   "execution_count": null,
   "metadata": {},
   "outputs": [],
   "source": [
    "# метод scatter()\n",
    "# диаграмма рассеяния\n",
    "# x, y — последовательности, которые будут отложены по осям абсцисс и ординат;\n",
    "# s — размер маркеров;\n",
    "# marker — вид маркеров ('o' — точки, '^' — треугольники);\n",
    "# c — цвет маркеров."
   ]
  },
  {
   "cell_type": "code",
   "execution_count": null,
   "metadata": {},
   "outputs": [],
   "source": [
    "# Axes.scatter(\n",
    "# x, \n",
    "# y, \n",
    "# s=None, (size)\n",
    "# c=None, (array-like or list of colors or color, optional)\n",
    "# marker=None, \n",
    "# cmap=None, (cmap is only used if c is an array of floats)\n",
    "# norm=None, \n",
    "# vmin=None, \n",
    "# vmax=None, \n",
    "# alpha=None, \n",
    "# linewidths=None, \n",
    "# *, \n",
    "# edgecolors=None, \n",
    "# plotnonfinite=False, \n",
    "# data=None, \n",
    "# **kwargs)"
   ]
  },
  {
   "cell_type": "code",
   "execution_count": 13,
   "metadata": {},
   "outputs": [
    {
     "data": {
      "text/plain": [
       "<matplotlib.collections.PathCollection at 0x20376902dd0>"
      ]
     },
     "execution_count": 13,
     "metadata": {},
     "output_type": "execute_result"
    },
    {
     "data": {
      "image/png": "[encoded data removed]",
      "text/plain": [
       "<Figure size 288x144 with 1 Axes>"
      ]
     },
     "metadata": {
      "needs_background": "light"
     },
     "output_type": "display_data"
    }
   ],
   "source": [
    "# построим диаграмму рассеяния, \n",
    "# которая покажет зависимость числа ежедневно обнаруживаемых случаев заражения (daily_confirmed) \n",
    "# от общего количества привитых вторым компонентом вакцины (people_fully_vaccinated) в США.\n",
    "# На диаграмме рассеяния по оси абсцисс откладываем суммарное число поставленных вакцин, \n",
    "# а по оси ординат — ежедневный прирост заболевших:\n",
    "\n",
    "data_us = covid_df[covid_df['country'] == 'United States']\n",
    "\n",
    "fig = plt.figure(figsize = (4,2))\n",
    "axes = fig.add_axes([0,0,1,1])\n",
    "axes.scatter(\n",
    "    x = data_us['people_fully_vaccinated'],\n",
    "    y = data_us['daily_confirmed'],\n",
    "    s = 100,\n",
    "    marker = 'o',\n",
    "    c = 'blue',\n",
    "    \n",
    ")\n"
   ]
  },
  {
   "cell_type": "code",
   "execution_count": null,
   "metadata": {},
   "outputs": [],
   "source": [
    "# Из диаграммы видно, что, в основном, \n",
    "# с ростом числа привитых вторым компонентом людей заболеваемость падает, \n",
    "# замедляясь на уровне около 50 тысяч заболевших в день, и продолжает снижение дальше"
   ]
  },
  {
   "cell_type": "code",
   "execution_count": null,
   "metadata": {},
   "outputs": [],
   "source": [
    "# метод pie()\n",
    "# Plot a pie chart.\n",
    "# https://matplotlib.org/stable/api/_as_gen/matplotlib.axes.Axes.pie.html"
   ]
  },
  {
   "cell_type": "code",
   "execution_count": null,
   "metadata": {},
   "outputs": [],
   "source": [
    "# Основные параметры метода pie()\n",
    "# x — значения, по которым будет строиться круговая диаграмма;\n",
    "# labels — метки, соответствующие значениям;\n",
    "# autopct — формат отображения долей на диаграмме (например, '%.1f%%' означает, что округление будет производиться до первого знака после запятой и при выводе будет указан знак \"%\"; открывающий и закрывающий проценты означают форматирование, а внутренний — вывод знака \"%\");\n",
    "# explode — последовательность, которая определяет долю смещения сектора от центра для каждого значения из x\n"
   ]
  }
 ],
 "metadata": {
  "interpreter": {
   "hash": "5d240ba0dc525c389faa33f5dcce5b4f32b6d6aa6d70d6d2dd929bd2b09ab69f"
  },
  "kernelspec": {
   "display_name": "Python 3.10.1 64-bit",
   "language": "python",
   "name": "python3"
  },
  "language_info": {
   "codemirror_mode": {
    "name": "ipython",
    "version": 3
   },
   "file_extension": ".py",
   "mimetype": "text/x-python",
   "name": "python",
   "nbconvert_exporter": "python",
   "pygments_lexer": "ipython3",
   "version": "3.10.1"
  },
  "orig_nbformat": 4
 },
 "nbformat": 4,
 "nbformat_minor": 2
}
